{
 "cells": [
  {
   "cell_type": "markdown",
   "id": "31498c04-1b87-4614-b09f-574da8ab121e",
   "metadata": {},
   "source": [
    "# Traveling Salesman Problem Brute Force\n",
    "## for mapping problems involving the same starting and ending coordinate\n",
    "\n",
    "Given a set of `(long, lat)` coordinates, the Python program will brute force the shortest path from the first coordinate, across all coordinates, returning to the first coordinate."
   ]
  },
  {
   "cell_type": "code",
   "execution_count": 55,
   "id": "bd52e632-58ca-4dc1-a2c0-36456009f44e",
   "metadata": {},
   "outputs": [],
   "source": [
    "###\n",
    "long_lat = [(-80.3055455567875, 35.075461583165),\n",
    "            (-81.5783244282868, 35.0675097680372),\n",
    "            (-81.2285531353557, 35.3374363367321),\n",
    "            (-80.5678740264858, 35.0038673621631),\n",
    "            (-79.9654901331045, 34.7408191786722),\n",
    "            (-79.3048110242347, 35.0516038135768)]\n",
    "###"
   ]
  },
  {
   "cell_type": "code",
   "execution_count": 56,
   "id": "bf44ed6c-089a-4eaa-99ac-004b36362a26",
   "metadata": {},
   "outputs": [],
   "source": [
    "# imports\n",
    "from math import radians, cos, sin, asin, sqrt\n",
    "from itertools import permutations\n",
    "from pprint import pp"
   ]
  },
  {
   "cell_type": "code",
   "execution_count": 57,
   "id": "85e1f310-acf9-45a9-ad50-8700c790edc3",
   "metadata": {},
   "outputs": [],
   "source": [
    "# https://stackoverflow.com/a/4913653\n",
    "# haversine distance function between two (long, lat) coordinates\n",
    "def haversine(lon1, lat1, lon2, lat2):\n",
    "    \"\"\"\n",
    "    Calculate the great circle distance between two points \n",
    "    on the earth (specified in decimal degrees)\n",
    "    \"\"\"\n",
    "    # convert decimal degrees to radians\n",
    "    lon1, lat1, lon2, lat2 = map(radians, [lon1, lat1, lon2, lat2])\n",
    "    # haversine formula\n",
    "    dlon = lon2 - lon1\n",
    "    dlat = lat2 - lat1\n",
    "    a = sin(dlat / 2)**2 + cos(lat1) * cos(lat2) * sin(dlon / 2)**2\n",
    "    c = 2 * asin(sqrt(a))\n",
    "    # Radius of earth in kilometers is 6371\n",
    "    km = 6371 * c\n",
    "    return km"
   ]
  },
  {
   "cell_type": "markdown",
   "id": "3d49304b-283c-4a58-b18a-da0b7615a53a",
   "metadata": {},
   "source": [
    "Generate a complete graph, $K_n$, where $n$ is the number of coordinates. We'll use the graph to compute all distances between coordinates so we can quickly compute each path length later.\n",
    "\n",
    "The total number of edges in a complete graph is given by this formula:\n",
    "\n",
    "$$\\frac{n\\cdot(n-1)}{2} = \\left(\\frac{1}{2}\\right)\\cdot\\left(n^{2}-n\\right)$$\n",
    "\n",
    "Therefore, this computation grows exponentially with $n$."
   ]
  },
  {
   "cell_type": "code",
   "execution_count": 58,
   "id": "9fc352d0-e94e-4d63-aa4f-182b535dcc8b",
   "metadata": {},
   "outputs": [
    {
     "name": "stdout",
     "output_type": "stream",
     "text": [
      "[(0, 1), (0, 2), (0, 3), (1, 2), (1, 3), (2, 3)]\n"
     ]
    }
   ],
   "source": [
    "def generate_complete_graph(n):\n",
    "    edges = []\n",
    "    for i in range(0, n):\n",
    "        for j in range(i + 1, n):\n",
    "            edges.append((i, j))\n",
    "    return edges\n",
    "\n",
    "pp(generate_complete_graph(4))"
   ]
  },
  {
   "cell_type": "markdown",
   "id": "d8983e7b-8ad4-4e80-8172-b2b1f850e1df",
   "metadata": {},
   "source": [
    "Compute all edge distances over the complete graph using the Haversine function and store in a list of tuples. Each tuple is `(node_0, node_1, distance)`."
   ]
  },
  {
   "cell_type": "code",
   "execution_count": 59,
   "id": "f685fe87-5a42-4486-a6a5-94f1678d8cb1",
   "metadata": {},
   "outputs": [
    {
     "name": "stdout",
     "output_type": "stream",
     "text": [
      "[(0, 1, 115.83298297185026),\n",
      " (0, 2, 88.77493861027976),\n",
      " (0, 3, 25.174613358411023),\n",
      " (0, 4, 48.43724128963063),\n",
      " (0, 5, 91.1198695601412),\n",
      " (1, 2, 43.71310888129238),\n",
      " (1, 3, 92.26864869788629),\n",
      " (1, 4, 151.495398718817),\n",
      " (1, 5, 206.93646304711461),\n",
      " (2, 3, 70.58346629665652),\n",
      " (2, 4, 132.75440602622768),\n",
      " (2, 5, 177.6703028552106),\n",
      " (3, 4, 62.25313661345294),\n",
      " (3, 5, 115.12943469379357),\n",
      " (4, 5, 69.4608439474778)]\n"
     ]
    }
   ],
   "source": [
    "distances = [(edge[0], edge[1],\n",
    "              haversine(long_lat[edge[0]][0], long_lat[edge[0]][1],\n",
    "                        long_lat[edge[1]][0], long_lat[edge[1]][1]))\n",
    "             for edge in generate_complete_graph(len(long_lat))]\n",
    "\n",
    "pp(distances)"
   ]
  },
  {
   "cell_type": "markdown",
   "id": "3a6f3972-6142-4930-a653-19f70bbc457d",
   "metadata": {},
   "source": [
    "When generating our paths, `(2, 3)` and `(3, 2)` refer to the same edge. These helper functions ensure that we look them up properly in our list of distances."
   ]
  },
  {
   "cell_type": "code",
   "execution_count": 60,
   "id": "92e7ad5c-2e90-4cac-9049-91ee1fe7fa31",
   "metadata": {},
   "outputs": [],
   "source": [
    "def greater_or(p):\n",
    "    if p[0] > p[1]:\n",
    "        return (p[1], p[0])\n",
    "    return p\n",
    "\n",
    "dist_dict = {}\n",
    "for d in distances:\n",
    "    if d[0] not in dist_dict:\n",
    "        dist_dict[d[0]] = []\n",
    "    dist_dict[d[0]].append((d[1], d[2]))\n",
    "\n",
    "def lookup_distance(p):\n",
    "    # p = (i1, i2)\n",
    "    p = greater_or(p)\n",
    "    start_node = p[0]\n",
    "    end_node_i = p[1] - p[0] - 1\n",
    "    dist = dist_dict[start_node][end_node_i][1]\n",
    "    return dist"
   ]
  },
  {
   "cell_type": "markdown",
   "id": "1f2a1586-7520-418d-b6fc-d63b7bd509de",
   "metadata": {},
   "source": [
    "The number of paths in a graph totals to $n!$ where $n$ is again the number of nodes in the graph. So, for a graph of 6 nodes, there are $6! = 720$ paths.\n",
    "\n",
    "All paths can be generated by permutating all nodes. For example, if `[1, 2, 3]` is the list of nodes in our graph, then all paths would be:\n",
    "\n",
    "```\n",
    "[1, 2, 3]\n",
    "[1, 3, 2]\n",
    "[2, 1, 3]\n",
    "[2, 3, 1]\n",
    "[3, 1, 2]\n",
    "[3, 2, 1]\n",
    "```\n",
    "\n",
    "...where the total number of paths here happens to be $3! = 6$ paths.\n",
    "\n",
    "For this problem specifically, however, we are fixing the first and last node of our path since we start and end up at the same node. Therefore, the number of paths is $(n-1)!$:\n",
    "\n",
    "```\n",
    "[1, 2, 3, 1]\n",
    "[1, 3, 2, 1]\n",
    "```\n",
    "\n",
    "...where the total number of paths is $(3 - 1)! = 2! = 2$."
   ]
  },
  {
   "cell_type": "code",
   "execution_count": 61,
   "id": "7b8e9274-5ef1-4a7e-bb46-373d39239dde",
   "metadata": {},
   "outputs": [
    {
     "name": "stdout",
     "output_type": "stream",
     "text": [
      "[(1, 2, 3), (1, 3, 2), (2, 1, 3), (2, 3, 1), (3, 1, 2), (3, 2, 1)]\n"
     ]
    }
   ],
   "source": [
    "def generate_paths(n):\n",
    "    return list(permutations(range(1, n + 1)))\n",
    "\n",
    "pp(generate_paths(3))\n",
    "\n",
    "# list of lat_long path permutations        \n",
    "midpaths = generate_paths(len(long_lat) - 1) # we're fixing one node\n",
    "\n",
    "# begin and end all paths with the starting node\n",
    "paths = []\n",
    "for path in midpaths:\n",
    "    paths.append([0] + list(path) + [0])"
   ]
  },
  {
   "cell_type": "markdown",
   "id": "bb0b815c-5564-4f24-909f-7cba2c842425",
   "metadata": {},
   "source": [
    "Lastly, we just need to actually compute the distances across all paths to find the smallest one. We find the distance of a path by jumping from one node to the next and adding up the distance as we go along. Our helper functions ensure that even though we're permutating all possible paths, edges like `(2, 3)` and `(3, 2)` will refer to the same edge.\n",
    "\n",
    "Once we have all our path distances, we sort by the smallest, and voila!"
   ]
  },
  {
   "cell_type": "code",
   "execution_count": 62,
   "id": "7e340e1e-aa00-483b-b568-cd8930d74d33",
   "metadata": {
    "scrolled": true
   },
   "outputs": [
    {
     "name": "stdout",
     "output_type": "stream",
     "text": [
      "([0, 5, 4, 3, 2, 1, 0], 337.1304252990208)\n"
     ]
    }
   ],
   "source": [
    "distance_per_path = []\n",
    "for path in paths:\n",
    "    path_dist = 0\n",
    "    for i in range(0, 5):\n",
    "        path_dist += lookup_distance((path[i], path[i + 1]))\n",
    "    distance_per_path.append((path, path_dist))\n",
    "\n",
    "sorted_distance_per_path = sorted(distance_per_path, key=lambda tup: tup[1])\n",
    "\n",
    "print(sorted_distance_per_path[0])"
   ]
  }
 ],
 "metadata": {
  "kernelspec": {
   "display_name": "Python 3 (ipykernel)",
   "language": "python",
   "name": "python3"
  },
  "language_info": {
   "codemirror_mode": {
    "name": "ipython",
    "version": 3
   },
   "file_extension": ".py",
   "mimetype": "text/x-python",
   "name": "python",
   "nbconvert_exporter": "python",
   "pygments_lexer": "ipython3",
   "version": "3.10.12"
  }
 },
 "nbformat": 4,
 "nbformat_minor": 5
}
