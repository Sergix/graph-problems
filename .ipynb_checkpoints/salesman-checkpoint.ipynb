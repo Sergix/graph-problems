{
 "cells": [
  {
   "cell_type": "markdown",
   "id": "31498c04-1b87-4614-b09f-574da8ab121e",
   "metadata": {},
   "source": [
    "# Traveling Salesman Problem Brute Force\n",
    "## for mapping problems involving the same starting and ending coordinate\n",
    "\n",
    "Given a set of (long, lat) coordinates, the Python program will brute force the shortest path from the first coordinate, across all coordinates, returning to the first coordinate."
   ]
  },
  {
   "cell_type": "code",
   "execution_count": null,
   "id": "bd52e632-58ca-4dc1-a2c0-36456009f44e",
   "metadata": {},
   "outputs": [],
   "source": [
    "###\n",
    "long_lat = [(-80.3055455567875, 35.075461583165),\n",
    "            (-81.5783244282868, 35.0675097680372),\n",
    "            (-81.2285531353557, 35.3374363367321),\n",
    "            (-80.5678740264858, 35.0038673621631),\n",
    "            (-79.9654901331045, 34.7408191786722),\n",
    "            (-79.3048110242347, 35.0516038135768)]\n",
    "###"
   ]
  },
  {
   "cell_type": "code",
   "execution_count": null,
   "id": "bf44ed6c-089a-4eaa-99ac-004b36362a26",
   "metadata": {},
   "outputs": [],
   "source": [
    "# imports\n",
    "from math import radians, cos, sin, asin, sqrt\n",
    "from itertools import permutations"
   ]
  },
  {
   "cell_type": "code",
   "execution_count": null,
   "id": "85e1f310-acf9-45a9-ad50-8700c790edc3",
   "metadata": {},
   "outputs": [],
   "source": [
    "# https://stackoverflow.com/a/4913653\n",
    "# haversine distance function between two (long, lat) coordinates\n",
    "def haversine(lon1, lat1, lon2, lat2):\n",
    "    \"\"\"\n",
    "    Calculate the great circle distance between two points \n",
    "    on the earth (specified in decimal degrees)\n",
    "    \"\"\"\n",
    "    # convert decimal degrees to radians\n",
    "    lon1, lat1, lon2, lat2 = map(radians, [lon1, lat1, lon2, lat2])\n",
    "    # haversine formula\n",
    "    dlon = lon2 - lon1\n",
    "    dlat = lat2 - lat1\n",
    "    a = sin(dlat / 2)**2 + cos(lat1) * cos(lat2) * sin(dlon / 2)**2\n",
    "    c = 2 * asin(sqrt(a))\n",
    "    # Radius of earth in kilometers is 6371\n",
    "    km = 6371 * c\n",
    "    return km"
   ]
  },
  {
   "cell_type": "markdown",
   "id": "3d49304b-283c-4a58-b18a-da0b7615a53a",
   "metadata": {},
   "source": [
    "Generate a complete graph, K_n, where *n* is the number of coordinates. We'll use the graph to compute all distances between coordinates so we can quickly compute each path length later.\n",
    "\n",
    "The total number of edges in a complete graph is given by this formula:\n",
    "\n",
    "$$\\frac{n\\cdot(n-1)}{2} = \\left(\\frac{1}{2}\\right)\\cdot\\left(n^{2}-n\\right)$$\n",
    "\n",
    "Therefore, this computation grows exponentially with *n*."
   ]
  },
  {
   "cell_type": "code",
   "execution_count": 1,
   "id": "9fc352d0-e94e-4d63-aa4f-182b535dcc8b",
   "metadata": {},
   "outputs": [
    {
     "name": "stdout",
     "output_type": "stream",
     "text": [
      "([0, 5, 4, 3, 2, 1, 0], 337.1304252990208)\n"
     ]
    }
   ],
   "source": [
    "def generate_complete_graph_recursive(n, current_node=1):\n",
    "    # for fun\n",
    "    edges = []\n",
    "    if n == current_node:\n",
    "        return []\n",
    "    for i in range(current_node + 1, n + 1):\n",
    "        edges.append((current_node, i))\n",
    "    edges = edges + generate_complete_graph(n, current_node=current_node + 1)\n",
    "    return edges\n",
    "\n",
    "def generate_complete_graph_iterative(n):\n",
    "    edges = []\n",
    "    for i in range(0, n):\n",
    "        for j in range(i + 1, n):\n",
    "            edges.append((i, j))\n",
    "    return edges\n",
    "\n",
    "def greater_or(p):\n",
    "    if p[0] > p[1]:\n",
    "        return (p[1], p[0])\n",
    "    return p\n",
    "\n",
    "distances = [(edge[0], edge[1],\n",
    "              haversine(long_lat[edge[0]][0], long_lat[edge[0]][1],\n",
    "                        long_lat[edge[1]][0], long_lat[edge[1]][1]))\n",
    "             for edge in generate_complete_graph_boring(6)]\n",
    "dist_dict = {}\n",
    "for d in distances:\n",
    "    if d[0] not in dist_dict:\n",
    "        dist_dict[d[0]] = []\n",
    "    dist_dict[d[0]].append((d[1], d[2]))\n",
    "\n",
    "\n",
    "def lookup_distance(p):\n",
    "    # p = (i1, i2)\n",
    "    p = greater_or(p)\n",
    "    start_node = p[0]\n",
    "    end_node_i = p[1] - p[0] - 1\n",
    "    dist = dist_dict[start_node][end_node_i][1]\n",
    "    return dist\n",
    "\n",
    "\n",
    "# list of lat_longs\n",
    "midpaths = list(permutations(range(1, 6)))\n",
    "paths = []\n",
    "\n",
    "# prepend and append all paths\n",
    "for path in midpaths:\n",
    "    paths.append([0] + list(path) + [0])\n",
    "\n",
    "distance_per_path = []\n",
    "for path in paths:\n",
    "    path_dist = 0\n",
    "    for i in range(0, 5):\n",
    "        path_dist += lookup_distance((path[i], path[i + 1]))\n",
    "    distance_per_path.append((path, path_dist))\n",
    "\n",
    "sorted_distance_per_path = sorted(distance_per_path, key=lambda tup: tup[1])\n",
    "\n",
    "print(sorted_distance_per_path[0])\n"
   ]
  },
  {
   "cell_type": "code",
   "execution_count": null,
   "id": "f685fe87-5a42-4486-a6a5-94f1678d8cb1",
   "metadata": {},
   "outputs": [],
   "source": []
  }
 ],
 "metadata": {
  "kernelspec": {
   "display_name": "Python 3 (ipykernel)",
   "language": "python",
   "name": "python3"
  },
  "language_info": {
   "codemirror_mode": {
    "name": "ipython",
    "version": 3
   },
   "file_extension": ".py",
   "mimetype": "text/x-python",
   "name": "python",
   "nbconvert_exporter": "python",
   "pygments_lexer": "ipython3",
   "version": "3.10.12"
  }
 },
 "nbformat": 4,
 "nbformat_minor": 5
}
